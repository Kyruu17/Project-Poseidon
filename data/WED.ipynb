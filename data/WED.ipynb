{
 "cells": [
  {
   "cell_type": "markdown",
   "metadata": {},
   "source": [
    "# Webscraping Earthquake Data"
   ]
  },
  {
   "cell_type": "code",
   "execution_count": null,
   "metadata": {},
   "outputs": [
    {
     "ename": "NameError",
     "evalue": "name 'starttime' is not defined",
     "output_type": "error",
     "traceback": [
      "\u001b[31m---------------------------------------------------------------------------\u001b[39m",
      "\u001b[31mNameError\u001b[39m                                 Traceback (most recent call last)",
      "\u001b[36mCell\u001b[39m\u001b[36m \u001b[39m\u001b[32mIn[1]\u001b[39m\u001b[32m, line 7\u001b[39m\n\u001b[32m      2\u001b[39m \u001b[38;5;28;01mimport\u001b[39;00m\u001b[38;5;250m \u001b[39m\u001b[34;01mpandas\u001b[39;00m\u001b[38;5;250m \u001b[39m\u001b[38;5;28;01mas\u001b[39;00m\u001b[38;5;250m \u001b[39m\u001b[34;01mpd\u001b[39;00m\n\u001b[32m      3\u001b[39m \u001b[38;5;28;01mfrom\u001b[39;00m\u001b[38;5;250m \u001b[39m\u001b[34;01mdatetime\u001b[39;00m\u001b[38;5;250m \u001b[39m\u001b[38;5;28;01mimport\u001b[39;00m datetime, timedelta\n\u001b[32m      5\u001b[39m params = {\n\u001b[32m      6\u001b[39m     \u001b[33m\"\u001b[39m\u001b[33mformat\u001b[39m\u001b[33m\"\u001b[39m: \u001b[33m\"\u001b[39m\u001b[33mgeojson\u001b[39m\u001b[33m\"\u001b[39m,\n\u001b[32m----> \u001b[39m\u001b[32m7\u001b[39m     \u001b[33m\"\u001b[39m\u001b[33mstarttime\u001b[39m\u001b[33m\"\u001b[39m: \u001b[43mstarttime\u001b[49m.strftime(\u001b[33m\"\u001b[39m\u001b[33m%\u001b[39m\u001b[33mY-\u001b[39m\u001b[33m%\u001b[39m\u001b[33mm-\u001b[39m\u001b[38;5;132;01m%d\u001b[39;00m\u001b[33m\"\u001b[39m),\n\u001b[32m      8\u001b[39m     \u001b[33m\"\u001b[39m\u001b[33mendtime\u001b[39m\u001b[33m\"\u001b[39m: endtime.strftime(\u001b[33m\"\u001b[39m\u001b[33m%\u001b[39m\u001b[33mY-\u001b[39m\u001b[33m%\u001b[39m\u001b[33mm-\u001b[39m\u001b[38;5;132;01m%d\u001b[39;00m\u001b[33m\"\u001b[39m),    \n\u001b[32m      9\u001b[39m     \u001b[33m\"\u001b[39m\u001b[33mminmagnitude\u001b[39m\u001b[33m\"\u001b[39m: \u001b[32m4\u001b[39m,  \n\u001b[32m     10\u001b[39m     \u001b[33m\"\u001b[39m\u001b[33mmaxlatitude\u001b[39m\u001b[33m\"\u001b[39m: \u001b[32m72.0\u001b[39m, \n\u001b[32m     11\u001b[39m     \u001b[33m\"\u001b[39m\u001b[33mminlatitude\u001b[39m\u001b[33m\"\u001b[39m: \u001b[32m35.0\u001b[39m,  \n\u001b[32m     12\u001b[39m     \u001b[33m\"\u001b[39m\u001b[33mmaxlongitude\u001b[39m\u001b[33m\"\u001b[39m: \u001b[32m40.0\u001b[39m,  \n\u001b[32m     13\u001b[39m     \u001b[33m\"\u001b[39m\u001b[33mminlongitude\u001b[39m\u001b[33m\"\u001b[39m: -\u001b[32m25.0\u001b[39m\n\u001b[32m     14\u001b[39m }\n\u001b[32m     16\u001b[39m \u001b[38;5;66;03m# Request data from USGS API\u001b[39;00m\n\u001b[32m     17\u001b[39m url = \u001b[33m\"\u001b[39m\u001b[33mhttps://earthquake.usgs.gov/fdsnws/event/1/query\u001b[39m\u001b[33m\"\u001b[39m\n",
      "\u001b[31mNameError\u001b[39m: name 'starttime' is not defined"
     ]
    }
   ],
   "source": [
    "import requests\n",
    "import pandas as pd\n",
    "from datetime import datetime, timedelta\n",
    "\n",
    "# Define starttime and endtime\n",
    "starttime = datetime.now() - timedelta(days=30)  # 30 days ago\n",
    "endtime = datetime.now()  # Current time\n",
    "\n",
    "params = {\n",
    "    \"format\": \"geojson\",\n",
    "    \"starttime\": starttime.strftime(\"%Y-%m-%d\"),\n",
    "    \"endtime\": endtime.strftime(\"%Y-%m-%d\"),    \n",
    "    \"minmagnitude\": 4,  \n",
    "    \"maxlatitude\": 72.0, \n",
    "    \"minlatitude\": 35.0,  \n",
    "    \"maxlongitude\": 40.0,  \n",
    "    \"minlongitude\": -25.0\n",
    "}\n",
    "\n",
    "# Request data from USGS API\n",
    "url = \"https://earthquake.usgs.gov/fdsnws/event/1/query\"\n",
    "response = requests.get(url, params=params)\n",
    "data = response.json()\n",
    "\n",
    "earthquakes = []\n",
    "for quake in data[\"features\"]:\n",
    "    properties = quake[\"properties\"]\n",
    "    geometry = quake[\"geometry\"][\"coordinates\"]\n",
    "\n",
    "    earthquakes.append({\n",
    "        \"Time\": pd.to_datetime(properties[\"time\"], unit='ms'),  # Convert timestamp\n",
    "        \"Magnitude\": properties[\"mag\"],\n",
    "        \"Location\": properties[\"place\"],\n",
    "        \"Longitude\": geometry[0],\n",
    "        \"Latitude\": geometry[1],\n",
    "        \"Depth (km)\": geometry[2]\n",
    "    })\n",
    "\n",
    "df = pd.DataFrame(earthquakes)\n",
    "\n",
    "print(df.head())\n"
   ]
  }
 ],
 "metadata": {
  "kernelspec": {
   "display_name": "Python 3",
   "language": "python",
   "name": "python3"
  },
  "language_info": {
   "codemirror_mode": {
    "name": "ipython",
    "version": 3
   },
   "file_extension": ".py",
   "mimetype": "text/x-python",
   "name": "python",
   "nbconvert_exporter": "python",
   "pygments_lexer": "ipython3",
   "version": "3.11.11"
  }
 },
 "nbformat": 4,
 "nbformat_minor": 2
}
