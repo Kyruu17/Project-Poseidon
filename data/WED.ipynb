{
 "cells": [
  {
   "cell_type": "markdown",
   "metadata": {},
   "source": [
    "# Webscraping Earthquake Data"
   ]
  },
  {
   "cell_type": "code",
   "execution_count": 1,
   "metadata": {},
   "outputs": [
    {
     "name": "stdout",
     "output_type": "stream",
     "text": [
      "                     Time  Magnitude                        Location  \\\n",
      "0 2025-03-24 05:18:52.459        4.4       78 km S of Faro, Portugal   \n",
      "1 2025-03-21 03:47:32.868        4.3     25 km SW of Amorgós, Greece   \n",
      "2 2025-03-18 09:50:27.350        4.8  18 km SW of Lakhdaria, Algeria   \n",
      "3 2025-03-18 09:01:25.597        4.5        3 km E of Potenza, Italy   \n",
      "4 2025-03-16 15:07:46.291        4.3    18 km SSW of Amorgós, Greece   \n",
      "\n",
      "   Longitude  Latitude  Depth (km)  \n",
      "0    -7.9261   36.3124        10.0  \n",
      "1    25.6984   36.6721        10.0  \n",
      "2     3.4280   36.4713        10.0  \n",
      "3    15.8522   40.6433        10.0  \n",
      "4    25.7902   36.6849        10.0  \n"
     ]
    }
   ],
   "source": [
    "import requests\n",
    "import pandas as pd\n",
    "from datetime import datetime, timedelta\n",
    "\n",
    "# Define starttime and endtime\n",
    "starttime = datetime.now() - timedelta(days=30)  # 30 days ago\n",
    "endtime = datetime.now()  # Current time\n",
    "\n",
    "params = {\n",
    "    \"format\": \"geojson\",\n",
    "    \"starttime\": starttime.strftime(\"%Y-%m-%d\"),\n",
    "    \"endtime\": endtime.strftime(\"%Y-%m-%d\"),    \n",
    "    \"minmagnitude\": 4,  \n",
    "    \"maxlatitude\": 72.0, \n",
    "    \"minlatitude\": 35.0,  \n",
    "    \"maxlongitude\": 40.0,  \n",
    "    \"minlongitude\": -25.0\n",
    "}\n",
    "\n",
    "# Request data from USGS API\n",
    "url = \"https://earthquake.usgs.gov/fdsnws/event/1/query\"\n",
    "response = requests.get(url, params=params)\n",
    "data = response.json()\n",
    "\n",
    "earthquakes = []\n",
    "for quake in data[\"features\"]:\n",
    "    properties = quake[\"properties\"]\n",
    "    geometry = quake[\"geometry\"][\"coordinates\"]\n",
    "\n",
    "    earthquakes.append({\n",
    "        \"Time\": pd.to_datetime(properties[\"time\"], unit='ms'),  # Convert timestamp\n",
    "        \"Magnitude\": properties[\"mag\"],\n",
    "        \"Location\": properties[\"place\"],\n",
    "        \"Longitude\": geometry[0],\n",
    "        \"Latitude\": geometry[1],\n",
    "        \"Depth (km)\": geometry[2]\n",
    "    })\n",
    "\n",
    "df = pd.DataFrame(earthquakes)\n",
    "\n",
    "print(df.head())\n"
   ]
  }
 ],
 "metadata": {
  "kernelspec": {
   "display_name": "Python 3",
   "language": "python",
   "name": "python3"
  },
  "language_info": {
   "codemirror_mode": {
    "name": "ipython",
    "version": 3
   },
   "file_extension": ".py",
   "mimetype": "text/x-python",
   "name": "python",
   "nbconvert_exporter": "python",
   "pygments_lexer": "ipython3",
   "version": "3.11.11"
  }
 },
 "nbformat": 4,
 "nbformat_minor": 2
}
