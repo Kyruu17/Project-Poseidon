{
 "cells": [
  {
   "cell_type": "markdown",
   "metadata": {},
   "source": [
    "# Webscraping Earthquake Data"
   ]
  },
  {
   "cell_type": "code",
   "execution_count": null,
   "metadata": {},
   "outputs": [],
   "source": [
    "import requests\n",
    "import pandas as pd\n",
    "from datetime import datetime, timedelta\n",
    "\n",
    "params = {\n",
    "    \"format\": \"geojson\",\n",
    "    \"starttime\": starttime.strftime(\"%Y-%m-%d\"),\n",
    "    \"endtime\": endtime.strftime(\"%Y-%m-%d\"),    \n",
    "    \"minmagnitude\": 4,  \n",
    "    \"maxlatitude\": 72.0, \n",
    "    \"minlatitude\": 35.0,  \n",
    "    \"maxlongitude\": 40.0,  \n",
    "    \"minlongitude\": -25.0\n",
    "}\n",
    "\n",
    "# Request data from USGS API\n",
    "url = \"https://earthquake.usgs.gov/fdsnws/event/1/query\"\n",
    "response = requests.get(url, params=params)\n",
    "data = response.json()\n",
    "\n",
    "earthquakes = []\n",
    "for quake in data[\"features\"]:\n",
    "    properties = quake[\"properties\"]\n",
    "    geometry = quake[\"geometry\"][\"coordinates\"]\n",
    "\n",
    "    earthquakes.append({\n",
    "        \"Time\": pd.to_datetime(properties[\"time\"], unit='ms'),  # Convert timestamp\n",
    "        \"Magnitude\": properties[\"mag\"],\n",
    "        \"Location\": properties[\"place\"],\n",
    "        \"Longitude\": geometry[0],\n",
    "        \"Latitude\": geometry[1],\n",
    "        \"Depth (km)\": geometry[2]\n",
    "    })\n",
    "\n",
    "df = pd.DataFrame(earthquakes)\n",
    "\n",
    "print(df.head())\n"
   ]
  }
 ],
 "metadata": {
  "kernelspec": {
   "display_name": "Python 3",
   "language": "python",
   "name": "python3"
  },
  "language_info": {
   "codemirror_mode": {
    "name": "ipython",
    "version": 3
   },
   "file_extension": ".py",
   "mimetype": "text/x-python",
   "name": "python",
   "nbconvert_exporter": "python",
   "pygments_lexer": "ipython3",
   "version": "3.11.11"
  }
 },
 "nbformat": 4,
 "nbformat_minor": 2
}
