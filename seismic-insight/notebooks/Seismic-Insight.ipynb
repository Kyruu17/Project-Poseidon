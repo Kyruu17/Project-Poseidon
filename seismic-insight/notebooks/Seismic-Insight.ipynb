{
 "cells": [
  {
   "cell_type": "markdown",
   "metadata": {},
   "source": [
    "# Webscraping Earthquake Data"
   ]
  },
  {
   "cell_type": "code",
   "execution_count": 4,
   "metadata": {},
   "outputs": [
    {
     "name": "stdout",
     "output_type": "stream",
     "text": [
      "                     Time  Magnitude                        Location  \\\n",
      "0 2025-05-01 14:43:44.389        4.1        21 km N of Serik, Turkey   \n",
      "1 2025-05-01 10:23:53.699        4.2  9 km S of Ouranoupolis, Greece   \n",
      "2 2025-04-30 23:48:10.940        4.1      17 km SE of Bodrum, Turkey   \n",
      "3 2025-04-30 05:36:23.985        4.5        33 km WNW of Fry, Greece   \n",
      "4 2025-04-27 18:09:38.109        4.7   11 km WNW of Doğanyol, Turkey   \n",
      "\n",
      "   Longitude  Latitude  Depth (km)  \n",
      "0    31.0858   37.1107     109.477  \n",
      "1    23.9826   40.2494      10.000  \n",
      "2    27.5581   36.9203      12.435  \n",
      "3    26.5653   35.4778      10.000  \n",
      "4    38.9278   38.3634      12.188  \n"
     ]
    }
   ],
   "source": [
    "import requests\n",
    "import pandas as pd\n",
    "from datetime import datetime, timedelta\n",
    "\n",
    "# Define starttime and endtime\n",
    "starttime = datetime.now() - timedelta(days=30)  # 30 days ago\n",
    "endtime = datetime.now()  # Current time\n",
    "\n",
    "params = {\n",
    "    \"format\": \"geojson\",\n",
    "    \"starttime\": starttime.strftime(\"%Y-%m-%d\"),\n",
    "    \"endtime\": endtime.strftime(\"%Y-%m-%d\"),    \n",
    "    \"minmagnitude\": 4,  \n",
    "    \"maxlatitude\": 72.0, \n",
    "    \"minlatitude\": 35.0,  \n",
    "    \"maxlongitude\": 40.0,  \n",
    "    \"minlongitude\": -25.0\n",
    "}\n",
    "\n",
    "# Request data from USGS API\n",
    "url = \"https://earthquake.usgs.gov/fdsnws/event/1/query\"\n",
    "response = requests.get(url, params=params)\n",
    "data = response.json()\n",
    "\n",
    "earthquakes = []\n",
    "for quake in data[\"features\"]:\n",
    "    properties = quake[\"properties\"]\n",
    "    geometry = quake[\"geometry\"][\"coordinates\"]\n",
    "\n",
    "    earthquakes.append({\n",
    "        \"Time\": pd.to_datetime(properties[\"time\"], unit='ms'),  # Convert timestamp\n",
    "        \"Magnitude\": properties[\"mag\"],\n",
    "        \"Location\": properties[\"place\"],\n",
    "        \"Longitude\": geometry[0],\n",
    "        \"Latitude\": geometry[1],\n",
    "        \"Depth (km)\": geometry[2]\n",
    "    })\n",
    "\n",
    "df = pd.DataFrame(earthquakes)\n",
    "\n",
    "print(df.head())\n"
   ]
  },
  {
   "cell_type": "code",
   "execution_count": 5,
   "metadata": {},
   "outputs": [
    {
     "name": "stdout",
     "output_type": "stream",
     "text": [
      "✅ Cleaned 488 earthquakes.\n"
     ]
    },
    {
     "data": {
      "text/html": [
       "<div>\n",
       "<style scoped>\n",
       "    .dataframe tbody tr th:only-of-type {\n",
       "        vertical-align: middle;\n",
       "    }\n",
       "\n",
       "    .dataframe tbody tr th {\n",
       "        vertical-align: top;\n",
       "    }\n",
       "\n",
       "    .dataframe thead th {\n",
       "        text-align: right;\n",
       "    }\n",
       "</style>\n",
       "<table border=\"1\" class=\"dataframe\">\n",
       "  <thead>\n",
       "    <tr style=\"text-align: right;\">\n",
       "      <th></th>\n",
       "      <th>time</th>\n",
       "      <th>place</th>\n",
       "      <th>mag</th>\n",
       "      <th>depth</th>\n",
       "      <th>longitude</th>\n",
       "      <th>latitude</th>\n",
       "      <th>type</th>\n",
       "      <th>id</th>\n",
       "      <th>url</th>\n",
       "      <th>region</th>\n",
       "    </tr>\n",
       "  </thead>\n",
       "  <tbody>\n",
       "    <tr>\n",
       "      <th>0</th>\n",
       "      <td>2024-03-30 22:55:52.655</td>\n",
       "      <td>77 km W of Panguna, Papua New Guinea</td>\n",
       "      <td>5.1</td>\n",
       "      <td>77.270</td>\n",
       "      <td>154.7807</td>\n",
       "      <td>-6.3333</td>\n",
       "      <td>earthquake</td>\n",
       "      <td>us7000m900</td>\n",
       "      <td>https://earthquake.usgs.gov/earthquakes/eventp...</td>\n",
       "      <td>Panguna, Papua New Guinea</td>\n",
       "    </tr>\n",
       "    <tr>\n",
       "      <th>1</th>\n",
       "      <td>2024-03-30 22:07:30.357</td>\n",
       "      <td>165 km NNW of Houma, Tonga</td>\n",
       "      <td>4.8</td>\n",
       "      <td>10.000</td>\n",
       "      <td>-175.9989</td>\n",
       "      <td>-19.8295</td>\n",
       "      <td>earthquake</td>\n",
       "      <td>us7000ma6u</td>\n",
       "      <td>https://earthquake.usgs.gov/earthquakes/eventp...</td>\n",
       "      <td>Houma, Tonga</td>\n",
       "    </tr>\n",
       "    <tr>\n",
       "      <th>2</th>\n",
       "      <td>2024-03-30 21:32:36.907</td>\n",
       "      <td>186 km NNW of Houma, Tonga</td>\n",
       "      <td>4.5</td>\n",
       "      <td>10.000</td>\n",
       "      <td>-176.1780</td>\n",
       "      <td>-19.7060</td>\n",
       "      <td>earthquake</td>\n",
       "      <td>us7000ma6q</td>\n",
       "      <td>https://earthquake.usgs.gov/earthquakes/eventp...</td>\n",
       "      <td>Houma, Tonga</td>\n",
       "    </tr>\n",
       "    <tr>\n",
       "      <th>3</th>\n",
       "      <td>2024-03-30 20:55:08.465</td>\n",
       "      <td>46 km W of Port-Vila, Vanuatu</td>\n",
       "      <td>4.7</td>\n",
       "      <td>10.000</td>\n",
       "      <td>167.8799</td>\n",
       "      <td>-17.8037</td>\n",
       "      <td>earthquake</td>\n",
       "      <td>us7000ma6p</td>\n",
       "      <td>https://earthquake.usgs.gov/earthquakes/eventp...</td>\n",
       "      <td>Port-Vila, Vanuatu</td>\n",
       "    </tr>\n",
       "    <tr>\n",
       "      <th>4</th>\n",
       "      <td>2024-03-30 20:04:08.351</td>\n",
       "      <td>Kermadec Islands region</td>\n",
       "      <td>4.6</td>\n",
       "      <td>9.606</td>\n",
       "      <td>-177.8442</td>\n",
       "      <td>-27.8943</td>\n",
       "      <td>earthquake</td>\n",
       "      <td>us7000ma6x</td>\n",
       "      <td>https://earthquake.usgs.gov/earthquakes/eventp...</td>\n",
       "      <td>Kermadec Islands region</td>\n",
       "    </tr>\n",
       "  </tbody>\n",
       "</table>\n",
       "</div>"
      ],
      "text/plain": [
       "                     time                                 place  mag   depth  \\\n",
       "0 2024-03-30 22:55:52.655  77 km W of Panguna, Papua New Guinea  5.1  77.270   \n",
       "1 2024-03-30 22:07:30.357            165 km NNW of Houma, Tonga  4.8  10.000   \n",
       "2 2024-03-30 21:32:36.907            186 km NNW of Houma, Tonga  4.5  10.000   \n",
       "3 2024-03-30 20:55:08.465         46 km W of Port-Vila, Vanuatu  4.7  10.000   \n",
       "4 2024-03-30 20:04:08.351               Kermadec Islands region  4.6   9.606   \n",
       "\n",
       "   longitude  latitude        type          id  \\\n",
       "0   154.7807   -6.3333  earthquake  us7000m900   \n",
       "1  -175.9989  -19.8295  earthquake  us7000ma6u   \n",
       "2  -176.1780  -19.7060  earthquake  us7000ma6q   \n",
       "3   167.8799  -17.8037  earthquake  us7000ma6p   \n",
       "4  -177.8442  -27.8943  earthquake  us7000ma6x   \n",
       "\n",
       "                                                 url  \\\n",
       "0  https://earthquake.usgs.gov/earthquakes/eventp...   \n",
       "1  https://earthquake.usgs.gov/earthquakes/eventp...   \n",
       "2  https://earthquake.usgs.gov/earthquakes/eventp...   \n",
       "3  https://earthquake.usgs.gov/earthquakes/eventp...   \n",
       "4  https://earthquake.usgs.gov/earthquakes/eventp...   \n",
       "\n",
       "                      region  \n",
       "0  Panguna, Papua New Guinea  \n",
       "1               Houma, Tonga  \n",
       "2               Houma, Tonga  \n",
       "3         Port-Vila, Vanuatu  \n",
       "4    Kermadec Islands region  "
      ]
     },
     "execution_count": 5,
     "metadata": {},
     "output_type": "execute_result"
    }
   ],
   "source": [
    "import sys\n",
    "import os\n",
    "\n",
    "# Add project root to path\n",
    "project_path = os.path.abspath(\"..\")\n",
    "sys.path.append(project_path)\n",
    "\n",
    "# Ensure data folder exists\n",
    "os.makedirs(\"data\", exist_ok=True)\n",
    "\n",
    "# Import your project functions\n",
    "from src import (\n",
    "    fetch_earthquake_data,\n",
    "    clean_earthquake_data,\n",
    "    perform_analysis,\n",
    "    map_epicenters,\n",
    ")\n",
    "\n",
    "# Run the pipeline\n",
    "fetch_earthquake_data(\"2024-03-01\", \"2024-03-31\")\n",
    "df = clean_earthquake_data()\n",
    "print(f\"✅ Cleaned {len(df)} earthquakes.\")\n",
    "df.head()\n",
    "\n",
    "\n",
    "\n"
   ]
  },
  {
   "cell_type": "code",
   "execution_count": 6,
   "metadata": {},
   "outputs": [
    {
     "name": "stdout",
     "output_type": "stream",
     "text": [
      "✅ Cleaned 488 earthquakes.\n",
      "                     time                                 place  mag   depth  \\\n",
      "0 2024-03-30 22:55:52.655  77 km W of Panguna, Papua New Guinea  5.1  77.270   \n",
      "1 2024-03-30 22:07:30.357            165 km NNW of Houma, Tonga  4.8  10.000   \n",
      "2 2024-03-30 21:32:36.907            186 km NNW of Houma, Tonga  4.5  10.000   \n",
      "3 2024-03-30 20:55:08.465         46 km W of Port-Vila, Vanuatu  4.7  10.000   \n",
      "4 2024-03-30 20:04:08.351               Kermadec Islands region  4.6   9.606   \n",
      "\n",
      "   longitude  latitude        type          id  \\\n",
      "0   154.7807   -6.3333  earthquake  us7000m900   \n",
      "1  -175.9989  -19.8295  earthquake  us7000ma6u   \n",
      "2  -176.1780  -19.7060  earthquake  us7000ma6q   \n",
      "3   167.8799  -17.8037  earthquake  us7000ma6p   \n",
      "4  -177.8442  -27.8943  earthquake  us7000ma6x   \n",
      "\n",
      "                                                 url  \\\n",
      "0  https://earthquake.usgs.gov/earthquakes/eventp...   \n",
      "1  https://earthquake.usgs.gov/earthquakes/eventp...   \n",
      "2  https://earthquake.usgs.gov/earthquakes/eventp...   \n",
      "3  https://earthquake.usgs.gov/earthquakes/eventp...   \n",
      "4  https://earthquake.usgs.gov/earthquakes/eventp...   \n",
      "\n",
      "                      region  \n",
      "0  Panguna, Papua New Guinea  \n",
      "1               Houma, Tonga  \n",
      "2               Houma, Tonga  \n",
      "3         Port-Vila, Vanuatu  \n",
      "4    Kermadec Islands region  \n"
     ]
    }
   ],
   "source": [
    "import sys\n",
    "import os\n",
    "\n",
    "# Dynamically find the project root and add it to the path\n",
    "project_path = os.path.abspath(\"..\")  # Adjust if your notebook is deeper\n",
    "sys.path.append(project_path)\n",
    "\n",
    "# ✅ Ensure data and output folders exist\n",
    "os.makedirs(\"data\", exist_ok=True)\n",
    "os.makedirs(\"seismic-insight/outputs\", exist_ok=True)\n",
    "\n",
    "# ✅ Import functions from src\n",
    "from src import (\n",
    "    fetch_earthquake_data,\n",
    "    clean_earthquake_data,\n",
    "    perform_analysis,\n",
    "    map_epicenters,\n",
    ")\n",
    "\n",
    "# ✅ Fetch and clean data\n",
    "fetch_earthquake_data(\"2024-03-01\", \"2024-03-31\")\n",
    "df = clean_earthquake_data()\n",
    "print(f\"✅ Cleaned {len(df)} earthquakes.\")\n",
    "\n",
    "# ✅ Preview data\n",
    "print(df.head())\n",
    "\n",
    "# ✅ Rename columns for compatibility\n",
    "df.rename(columns={\n",
    "    \"Magnitude\": \"mag\",\n",
    "    \"Depth (km)\": \"depth\",\n",
    "    \"Location\": \"place\",\n",
    "    \"Latitude\": \"latitude\",\n",
    "    \"Longitude\": \"longitude\"\n",
    "}, inplace=True)\n",
    "\n",
    "\n"
   ]
  },
  {
   "cell_type": "code",
   "execution_count": 7,
   "metadata": {},
   "outputs": [
    {
     "name": "stdout",
     "output_type": "stream",
     "text": [
      "✅ Renamed columns: ['time', 'place', 'mag', 'depth', 'longitude', 'latitude', 'type', 'id', 'url', 'region']\n"
     ]
    }
   ],
   "source": [
    "import os\n",
    "import sys\n",
    "\n",
    "# Setup project path\n",
    "project_path = os.path.abspath(\"..\")\n",
    "sys.path.append(project_path)\n",
    "\n",
    "# Now import your functions\n",
    "from src import fetch_earthquake_data, clean_earthquake_data\n",
    "\n",
    "# Fetch and clean the data\n",
    "fetch_earthquake_data(\"2024-03-01\", \"2024-03-31\")\n",
    "df = clean_earthquake_data()\n",
    "\n",
    "# Rename columns to match analysis\n",
    "df.rename(columns={\n",
    "    \"Magnitude\": \"mag\",\n",
    "    \"Depth\": \"depth\",\n",
    "    \"Location\": \"place\",\n",
    "    \"Latitude\": \"latitude\",\n",
    "    \"Longitude\": \"longitude\"\n",
    "}, inplace=True)\n",
    "\n",
    "# Confirm columns\n",
    "print(\"✅ Renamed columns:\", df.columns.tolist())\n",
    "\n",
    "\n",
    "\n"
   ]
  },
  {
   "cell_type": "code",
   "execution_count": 8,
   "metadata": {},
   "outputs": [],
   "source": [
    "import matplotlib.pyplot as plt\n",
    "\n",
    "def plot_magnitude_histogram(df):\n",
    "    plt.figure(figsize=(8, 4))\n",
    "    plt.hist(df[\"mag\"], bins=10, edgecolor='black')\n",
    "    plt.title(\"Distribution of Earthquake Magnitudes\")\n",
    "    plt.xlabel(\"Magnitude\")\n",
    "    plt.ylabel(\"Frequency\")\n",
    "    plt.grid(True)\n",
    "    plt.tight_layout()\n",
    "    plt.show()  # 👈 Important!\n",
    "\n"
   ]
  },
  {
   "cell_type": "code",
   "execution_count": 9,
   "metadata": {},
   "outputs": [],
   "source": [
    "import seaborn as sns\n",
    "\n",
    "def plot_top_regions(df):\n",
    "    top_regions = df[\"region\"].value_counts().head(5)\n",
    "    plt.figure(figsize=(8, 4))\n",
    "    sns.barplot(x=top_regions.values, y=top_regions.index)\n",
    "    plt.title(\"Top 5 Earthquake Regions\")\n",
    "    plt.xlabel(\"Count\")\n",
    "    plt.ylabel(\"Region\")\n",
    "    plt.show()\n"
   ]
  },
  {
   "cell_type": "code",
   "execution_count": 10,
   "metadata": {},
   "outputs": [],
   "source": [
    "def plot_magnitude_by_region(df):\n",
    "    top = df[df[\"region\"].isin(df[\"region\"].value_counts().index[:5])]\n",
    "    plt.figure(figsize=(10, 5))\n",
    "    sns.boxplot(data=top, x=\"region\", y=\"mag\")\n",
    "    plt.title(\"Magnitude Distribution by Region\")\n",
    "    plt.ylabel(\"Magnitude\")\n",
    "    plt.xticks(rotation=45)\n",
    "    plt.tight_layout()\n",
    "    plt.show()\n"
   ]
  },
  {
   "cell_type": "markdown",
   "metadata": {},
   "source": [
    "# Statistical Analysis"
   ]
  },
  {
   "cell_type": "code",
   "execution_count": 11,
   "metadata": {},
   "outputs": [
    {
     "name": "stdout",
     "output_type": "stream",
     "text": [
      "BEFORE RENAME: ['time', 'place', 'mag', 'depth', 'longitude', 'latitude', 'type', 'id', 'url', 'region']\n",
      "AFTER RENAME: ['time', 'place', 'mag', 'depth', 'longitude', 'latitude', 'type', 'id', 'url', 'region']\n",
      "📈 Correlation: -0.009, P-value: 0.850\n",
      "⚠️ Not enough data for one or both regions.\n"
     ]
    }
   ],
   "source": [
    "# ✅ Check original column names\n",
    "print(\"BEFORE RENAME:\", df.columns.tolist())\n",
    "\n",
    "# ✅ Rename columns first\n",
    "df.rename(columns={\n",
    "    \"Magnitude\": \"mag\",\n",
    "    \"Depth (km)\": \"depth\",\n",
    "    \"Location\": \"place\",\n",
    "    \"Latitude\": \"latitude\",\n",
    "    \"Longitude\": \"longitude\"\n",
    "}, inplace=True)\n",
    "\n",
    "print(\"AFTER RENAME:\", df.columns.tolist())\n",
    "\n",
    "# ✅ Now do analysis\n",
    "from scipy.stats import pearsonr, ttest_ind\n",
    "\n",
    "# Correlation analysis between magnitude and depth\n",
    "correlation, p_value = pearsonr(df['mag'], df['depth'])\n",
    "print(f'📈 Correlation: {correlation:.3f}, P-value: {p_value:.3f}')\n",
    "\n",
    "# Statistical test between California and Alaska\n",
    "region1 = df[df['place'].str.contains('California', case=False, na=False)]['mag']\n",
    "region2 = df[df['place'].str.contains('Alaska', case=False, na=False)]['mag']\n",
    "\n",
    "if not region1.empty and not region2.empty:\n",
    "    t_stat, p_val = ttest_ind(region1, region2, equal_var=False)\n",
    "    print(f'📊 T-test: T-statistic = {t_stat:.3f}, P-value = {p_val:.3f}')\n",
    "else:\n",
    "    print(\"⚠️ Not enough data for one or both regions.\")\n",
    "\n"
   ]
  },
  {
   "cell_type": "markdown",
   "metadata": {},
   "source": [
    "# Database Integration"
   ]
  },
  {
   "cell_type": "code",
   "execution_count": 12,
   "metadata": {},
   "outputs": [
    {
     "name": "stdout",
     "output_type": "stream",
     "text": [
      "[('2024-03-30 22:55:52.655000', '77 km W of Panguna, Papua New Guinea', 5.1, 77.27, 154.7807, -6.3333, 'earthquake', 'us7000m900', 'https://earthquake.usgs.gov/earthquakes/eventpage/us7000m900', 'Panguna, Papua New Guinea'), ('2024-03-30 17:35:49.670000', '164 km W of Pangai, Tonga', 5.2, 10.0, -175.9239, -19.7019, 'earthquake', 'us7000m8z0', 'https://earthquake.usgs.gov/earthquakes/eventpage/us7000m8z0', 'Pangai, Tonga'), ('2024-03-30 16:44:25.049000', '171 km NNW of Houma, Tonga', 5.3, 10.249, -176.0022, -19.7708, 'earthquake', 'us7000m8yl', 'https://earthquake.usgs.gov/earthquakes/eventpage/us7000m8yl', 'Houma, Tonga'), ('2024-03-30 16:28:57.456000', 'Rat Islands, Aleutian Islands, Alaska', 5.8, 109.0, 178.3963, 52.1143, 'earthquake', 'us7000m8yd', 'https://earthquake.usgs.gov/earthquakes/eventpage/us7000m8yd', 'Rat Islands, Aleutian Islands, Alaska'), ('2024-03-30 09:48:17.120000', 'central East Pacific Rise', 5.1, 10.0, -103.9175, -4.0264, 'earthquake', 'us7000m8ww', 'https://earthquake.usgs.gov/earthquakes/eventpage/us7000m8ww', 'central East Pacific Rise')]\n"
     ]
    }
   ],
   "source": [
    "import sqlite3\n",
    "\n",
    "# Connect to SQLite database\n",
    "conn = sqlite3.connect('../data/database.db')\n",
    "cursor = conn.cursor()\n",
    "\n",
    "# Create a table for earthquake data\n",
    "cursor.execute('''CREATE TABLE IF NOT EXISTS earthquakes (\n",
    "    Time TEXT, Magnitude REAL, Location TEXT, Longitude REAL, Latitude REAL, Depth REAL)''')\n",
    "\n",
    "# Rename DataFrame columns to match the SQLite table schema\n",
    "df.rename(columns={\n",
    "    \"time\": \"Time\",\n",
    "    \"mag\": \"Magnitude\",\n",
    "    \"place\": \"Location\",\n",
    "    \"longitude\": \"Longitude\",\n",
    "    \"latitude\": \"Latitude\",\n",
    "    \"depth\": \"Depth\"\n",
    "}, inplace=True)\n",
    "\n",
    "# Insert data into the table\n",
    "df.to_sql('earthquakes', conn, if_exists='replace', index=False)\n",
    "\n",
    "# Query the database\n",
    "cursor.execute('SELECT * FROM earthquakes WHERE Magnitude > 5')\n",
    "results = cursor.fetchall()\n",
    "print(results[:5])\n",
    "\n",
    "conn.close()"
   ]
  },
  {
   "cell_type": "markdown",
   "metadata": {},
   "source": [
    "# LLM Integration"
   ]
  },
  {
   "cell_type": "code",
   "execution_count": 13,
   "metadata": {},
   "outputs": [
    {
     "name": "stdout",
     "output_type": "stream",
     "text": [
      "Error importing summarize_data: No module named 'src.llm_helper'\n"
     ]
    }
   ],
   "source": [
    "# Import the summarize_data function\n",
    "try:\n",
    "    from src.llm_helper import summarize_data\n",
    "    print('LLM helper imported successfully.')\n",
    "except ImportError as e:\n",
    "    print(f'Error importing summarize_data: {e}')"
   ]
  },
  {
   "cell_type": "code",
   "execution_count": null,
   "metadata": {},
   "outputs": [
    {
     "name": "stdout",
     "output_type": "stream",
     "text": [
      "Error during summarization: name 'summarize_data' is not defined\n"
     ]
    }
   ],
   "source": [
    "# Attempt to summarize data\n",
    "try:\n",
    "    summary = summarize_data(df)\n",
    "    print(summary)\n",
    "except Exception as e:\n",
    "    print(f'Error during summarization: {e}')"
   ]
  },
  {
   "cell_type": "code",
   "execution_count": 18,
   "metadata": {},
   "outputs": [
    {
     "name": "stdout",
     "output_type": "stream",
     "text": [
      "✅ Columns after rename: ['Time', 'place', 'mag', 'depth', 'longitude', 'latitude', 'type', 'id', 'url', 'region']\n",
      "🌍 Map saved successfully!\n"
     ]
    }
   ],
   "source": [
    "# ✅ Rename columns only once\n",
    "df.rename(columns={\n",
    "    \"Magnitude\": \"mag\",\n",
    "    \"Depth\": \"depth\",\n",
    "    \"Location\": \"place\",\n",
    "    \"Latitude\": \"latitude\",\n",
    "    \"Longitude\": \"longitude\"\n",
    "}, inplace=True)\n",
    "\n",
    "print(\"✅ Columns after rename:\", df.columns.tolist())\n",
    "\n",
    "# ✅ Ensure output directory exists\n",
    "import os\n",
    "os.makedirs(\"seismic-insight/outputs\", exist_ok=True)\n",
    "\n",
    "# ✅ Generate the map\n",
    "from src.visualization import map_epicenters\n",
    "map_epicenters(df, output_path=\"seismic-insight/outputs/world_map.html\")\n",
    "\n",
    "print(\"🌍 Map saved successfully!\")\n"
   ]
  }
 ],
 "metadata": {
  "kernelspec": {
   "display_name": "Python 3",
   "language": "python",
   "name": "python3"
  },
  "language_info": {
   "codemirror_mode": {
    "name": "ipython",
    "version": 3
   },
   "file_extension": ".py",
   "mimetype": "text/x-python",
   "name": "python",
   "nbconvert_exporter": "python",
   "pygments_lexer": "ipython3",
   "version": "3.11.11"
  }
 },
 "nbformat": 4,
 "nbformat_minor": 2
}
